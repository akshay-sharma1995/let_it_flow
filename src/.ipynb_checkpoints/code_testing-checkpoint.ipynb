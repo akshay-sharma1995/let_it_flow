{
 "cells": [
  {
   "cell_type": "code",
   "execution_count": null,
   "metadata": {},
   "outputs": [],
   "source": [
    "from DataLoader import *\n",
    "import torch\n",
    "import torch.nn as nn\n",
    "import pdb\n",
    "import skimage\n",
    "from skimage.viewer import Imageviewer"
   ]
  },
  {
   "cell_type": "code",
   "execution_count": null,
   "metadata": {},
   "outputs": [],
   "source": [
    "data_dir = \"../dataset/data_scene_flow_multiview/training/image_2/\"\n",
    "dataset = KITTIDataset(folder_name=data_dir,\n",
    "transform=transforms.Compose([RandomVerticalFlip(),\n",
    "    RandomHorizontalFlip(),\n",
    "    RandomCrop([320, 896]),\n",
    "#     Normalize(),\n",
    "#     ToTensor()\n",
    "]\n",
    "))\n",
    "\n",
    "dataloader = DataLoader(dataset, batch_size = 1, shuffle = True, num_workers = 4)"
   ]
  },
  {
   "cell_type": "code",
   "execution_count": null,
   "metadata": {},
   "outputs": [],
   "source": [
    "sampled_data = None\n",
    "for i_batch, sampled_batch in enumerate(dataloader):\n",
    "    sampled_data = sampled_batch\n",
    "    break\n",
    "    pdb.set_trace()\n",
    "    "
   ]
  },
  {
   "cell_type": "code",
   "execution_count": null,
   "metadata": {},
   "outputs": [],
   "source": [
    "sampled_data.shape"
   ]
  }
 ],
 "metadata": {
  "kernelspec": {
   "display_name": "Python 3",
   "language": "python",
   "name": "python3"
  },
  "language_info": {
   "codemirror_mode": {
    "name": "ipython",
    "version": 3
   },
   "file_extension": ".py",
   "mimetype": "text/x-python",
   "name": "python",
   "nbconvert_exporter": "python",
   "pygments_lexer": "ipython3",
   "version": "3.5.9"
  }
 },
 "nbformat": 4,
 "nbformat_minor": 4
}
