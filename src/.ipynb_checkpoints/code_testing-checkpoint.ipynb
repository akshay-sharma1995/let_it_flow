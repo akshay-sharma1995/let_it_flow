{
 "cells": [
  {
   "cell_type": "code",
   "execution_count": 1,
   "metadata": {},
   "outputs": [
    {
     "name": "stderr",
     "output_type": "stream",
     "text": [
      "/home/akshay/venvs/drl/lib/python3.5/site-packages/skimage/viewer/__init__.py:6: UserWarning: Viewer requires Qt\n",
      "  warn('Viewer requires Qt')\n"
     ]
    }
   ],
   "source": [
    "from DataLoader import *\n",
    "import torch\n",
    "import torch.nn as nn\n",
    "import pdb\n",
    "import skimage\n",
    "from skimage.viewer import ImageViewer\n",
    "from matplotlib import pyplot as plt"
   ]
  },
  {
   "cell_type": "code",
   "execution_count": 2,
   "metadata": {},
   "outputs": [],
   "source": [
    "data_dir = \"/serverdata/akshay/personal_projects/let_it_flow/training/image_2/\"\n",
    "dataset = KITTIDataset(folder_name=data_dir,\n",
    "transform=transforms.Compose([\n",
    "    RandomVerticalFlip(),\n",
    "#     RandomHorizontalFlip(),\n",
    "    RandomCrop([370, 1236]),\n",
    "#     Normalize(),\n",
    "    ToTensor()\n",
    "]\n",
    ")\n",
    ")\n",
    "\n",
    "dataloader = DataLoader(dataset, batch_size = 4, shuffle = True, num_workers = 4)\n"
   ]
  },
  {
   "cell_type": "code",
   "execution_count": 3,
   "metadata": {},
   "outputs": [],
   "source": [
    "def sample_batch(batch_size=1):\n",
    "    sampled_data = []\n",
    "    for i_batch, sampled_batch in enumerate(dataloader):\n",
    "        if(i_batch==batch_size):\n",
    "            break\n",
    "        sampled_data.extend(sampled_batch.numpy())\n",
    "\n",
    "    sampled_data = np.stack(sampled_data,axis=0)\n",
    "    print(\"sampled_data \", sampled_data.shape)\n",
    "    return sampled_data\n"
   ]
  },
  {
   "cell_type": "code",
   "execution_count": 4,
   "metadata": {},
   "outputs": [
    {
     "ename": "SyntaxError",
     "evalue": "invalid syntax (<ipython-input-4-60fabfa42966>, line 3)",
     "output_type": "error",
     "traceback": [
      "\u001b[0;36m  File \u001b[0;32m\"<ipython-input-4-60fabfa42966>\"\u001b[0;36m, line \u001b[0;32m3\u001b[0m\n\u001b[0;31m    num_per_batch = image_batch.shacmap='gray', vmin=0, vmax=255pe[1]\u001b[0m\n\u001b[0m                                                                 ^\u001b[0m\n\u001b[0;31mSyntaxError\u001b[0m\u001b[0;31m:\u001b[0m invalid syntax\n"
     ]
    }
   ],
   "source": [
    "def show_imgs(image_batch):\n",
    "    batch_size = image_batch.shape[0]\n",
    "    num_per_batch = image_batch.shape[1]\n",
    "    f, axs = plt.subplots(batch_size, num_per_batch, figsize=(6.4*num_per_batch, 4.0*batch_size))\n",
    "    for batch in range(batch_size):\n",
    "        for img_id in range(num_per_batch):\n",
    "            axs[batch, img_id].imshow(image_batch[batch, img_id],cmap='gray', vmin=0, vmax=255)\n",
    "    plt.show()"
   ]
  },
  {
   "cell_type": "code",
   "execution_count": 5,
   "metadata": {},
   "outputs": [
    {
     "name": "stdout",
     "output_type": "stream",
     "text": [
      "sampled_data  (8, 2, 370, 1236)\n"
     ]
    },
    {
     "ename": "NameError",
     "evalue": "name 'show_imgs' is not defined",
     "output_type": "error",
     "traceback": [
      "\u001b[0;31m---------------------------------------------------------------------------\u001b[0m",
      "\u001b[0;31mNameError\u001b[0m                                 Traceback (most recent call last)",
      "\u001b[0;32m<ipython-input-5-6cba09e00eac>\u001b[0m in \u001b[0;36m<module>\u001b[0;34m\u001b[0m\n\u001b[1;32m      1\u001b[0m \u001b[0msampled_data\u001b[0m \u001b[0;34m=\u001b[0m \u001b[0msample_batch\u001b[0m\u001b[0;34m(\u001b[0m\u001b[0;36m2\u001b[0m\u001b[0;34m)\u001b[0m\u001b[0;34m\u001b[0m\u001b[0m\n\u001b[0;32m----> 2\u001b[0;31m \u001b[0mshow_imgs\u001b[0m\u001b[0;34m(\u001b[0m\u001b[0msampled_data\u001b[0m\u001b[0;34m)\u001b[0m\u001b[0;34m\u001b[0m\u001b[0m\n\u001b[0m",
      "\u001b[0;31mNameError\u001b[0m: name 'show_imgs' is not defined"
     ]
    }
   ],
   "source": [
    "sampled_data = sample_batch(2)\n",
    "show_imgs(sampled_data)\n"
   ]
  }
 ],
 "metadata": {
  "kernelspec": {
   "display_name": "Python 3",
   "language": "python",
   "name": "python3"
  },
  "language_info": {
   "codemirror_mode": {
    "name": "ipython",
    "version": 3
   },
   "file_extension": ".py",
   "mimetype": "text/x-python",
   "name": "python",
   "nbconvert_exporter": "python",
   "pygments_lexer": "ipython3",
   "version": "3.5.2"
  }
 },
 "nbformat": 4,
 "nbformat_minor": 4
}
