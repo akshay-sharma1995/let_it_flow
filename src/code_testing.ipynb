{
 "cells": [
  {
   "cell_type": "code",
   "execution_count": 3,
   "metadata": {},
   "outputs": [],
   "source": [
    "from DataLoader import *\n",
    "import torch\n",
    "import torch.nn as nn\n",
    "import pdb\n",
    "import skimage\n",
    "from skimage.viewer import ImageViewer"
   ]
  },
  {
   "cell_type": "code",
   "execution_count": 4,
   "metadata": {},
   "outputs": [],
   "source": [
    "data_dir = \"../dataset/data_scene_flow_multiview/training/image_2/\"\n",
    "dataset = KITTIDataset(folder_name=data_dir,\n",
    "transform=transforms.Compose([RandomVerticalFlip(),\n",
    "    RandomHorizontalFlip(),\n",
    "    RandomCrop([320, 896]),\n",
    "#     Normalize(),\n",
    "#     ToTensor()\n",
    "]\n",
    "))\n",
    "\n",
    "dataloader = DataLoader(dataset, batch_size = 1, shuffle = True, num_workers = 4)"
   ]
  },
  {
   "cell_type": "code",
   "execution_count": 33,
   "metadata": {},
   "outputs": [],
   "source": [
    "sampled_data = []\n",
    "\n",
    "for i_batch, sampled_batch in enumerate(dataloader):\n",
    "    sampled_data.extend(sampled_batch.numpy())\n",
    "    if(i_batch==3):\n",
    "        break\n",
    "sampled_data = np.stack(sampled_data,axis=1)[0]\n",
    "sampleld"
   ]
  },
  {
   "cell_type": "code",
   "execution_count": 41,
   "metadata": {},
   "outputs": [
    {
     "name": "stdout",
     "output_type": "stream",
     "text": [
      "(4, 2, 320, 896)\n"
     ]
    },
    {
     "data": {
      "text/plain": [
       "array([[248,   4,  16, ...,   2,   0, 255],\n",
       "       [ 11,   8,  14, ..., 253, 249, 253],\n",
       "       [ 12,  10,  15, ..., 255, 255,   0],\n",
       "       ...,\n",
       "       [177, 187, 210, ...,  79,  69,  39],\n",
       "       [173, 193, 220, ...,  69,  99,  67],\n",
       "       [199, 211, 225, ...,  49,  92,  99]], dtype=uint8)"
      ]
     },
     "execution_count": 41,
     "metadata": {},
     "output_type": "execute_result"
    }
   ],
   "source": [
    "print(sampled_data.shape)\n",
    "\n",
    "sampled_data[2,0] - sampled_data[2,1]\n",
    "# skimage.io.imshow(sampled_data[1,1])"
   ]
  }
 ],
 "metadata": {
  "kernelspec": {
   "display_name": "Python 3",
   "language": "python",
   "name": "python3"
  },
  "language_info": {
   "codemirror_mode": {
    "name": "ipython",
    "version": 3
   },
   "file_extension": ".py",
   "mimetype": "text/x-python",
   "name": "python",
   "nbconvert_exporter": "python",
   "pygments_lexer": "ipython3",
   "version": "3.5.9"
  }
 },
 "nbformat": 4,
 "nbformat_minor": 4
}
